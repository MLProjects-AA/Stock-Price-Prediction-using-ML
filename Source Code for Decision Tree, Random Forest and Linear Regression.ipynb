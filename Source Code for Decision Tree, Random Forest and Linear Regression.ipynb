{
 "cells": [
  {
   "cell_type": "markdown",
   "id": "386e5228",
   "metadata": {},
   "source": [
    "## Reliance Industries' Stock Price Prediction"
   ]
  },
  {
   "cell_type": "code",
   "execution_count": 1,
   "id": "260d3728",
   "metadata": {},
   "outputs": [],
   "source": [
    "import pandas as pd"
   ]
  },
  {
   "cell_type": "code",
   "execution_count": 2,
   "id": "4fa9fa65",
   "metadata": {},
   "outputs": [],
   "source": [
    "stock_price = pd.read_csv(\"Reliance Industries’ Stocks Dataset [2010-2018].csv\")"
   ]
  },
  {
   "cell_type": "code",
   "execution_count": 3,
   "id": "887bdfe2",
   "metadata": {},
   "outputs": [
    {
     "data": {
      "text/html": [
       "<div>\n",
       "<style scoped>\n",
       "    .dataframe tbody tr th:only-of-type {\n",
       "        vertical-align: middle;\n",
       "    }\n",
       "\n",
       "    .dataframe tbody tr th {\n",
       "        vertical-align: top;\n",
       "    }\n",
       "\n",
       "    .dataframe thead th {\n",
       "        text-align: right;\n",
       "    }\n",
       "</style>\n",
       "<table border=\"1\" class=\"dataframe\">\n",
       "  <thead>\n",
       "    <tr style=\"text-align: right;\">\n",
       "      <th></th>\n",
       "      <th>Prev Close</th>\n",
       "      <th>Open Price</th>\n",
       "      <th>High Price</th>\n",
       "      <th>Low Price</th>\n",
       "      <th>Last Price</th>\n",
       "      <th>Close Price</th>\n",
       "      <th>Average Price</th>\n",
       "      <th>Total Traded Quantity</th>\n",
       "    </tr>\n",
       "  </thead>\n",
       "  <tbody>\n",
       "    <tr>\n",
       "      <th>0</th>\n",
       "      <td>1090.55</td>\n",
       "      <td>1091.1</td>\n",
       "      <td>1091.1</td>\n",
       "      <td>1021.85</td>\n",
       "      <td>1077.3</td>\n",
       "      <td>1075.50</td>\n",
       "      <td>1044.44</td>\n",
       "      <td>17520006</td>\n",
       "    </tr>\n",
       "    <tr>\n",
       "      <th>1</th>\n",
       "      <td>1075.50</td>\n",
       "      <td>1149.9</td>\n",
       "      <td>1149.9</td>\n",
       "      <td>1065.40</td>\n",
       "      <td>1068.7</td>\n",
       "      <td>1070.70</td>\n",
       "      <td>1078.03</td>\n",
       "      <td>4890040</td>\n",
       "    </tr>\n",
       "    <tr>\n",
       "      <th>2</th>\n",
       "      <td>1070.70</td>\n",
       "      <td>1079.9</td>\n",
       "      <td>1094.5</td>\n",
       "      <td>1070.65</td>\n",
       "      <td>1087.0</td>\n",
       "      <td>1088.00</td>\n",
       "      <td>1084.64</td>\n",
       "      <td>5415538</td>\n",
       "    </tr>\n",
       "    <tr>\n",
       "      <th>3</th>\n",
       "      <td>1088.00</td>\n",
       "      <td>1088.0</td>\n",
       "      <td>1115.0</td>\n",
       "      <td>1078.00</td>\n",
       "      <td>1101.9</td>\n",
       "      <td>1106.05</td>\n",
       "      <td>1103.49</td>\n",
       "      <td>5988404</td>\n",
       "    </tr>\n",
       "    <tr>\n",
       "      <th>4</th>\n",
       "      <td>1106.05</td>\n",
       "      <td>1108.0</td>\n",
       "      <td>1113.8</td>\n",
       "      <td>1096.00</td>\n",
       "      <td>1103.9</td>\n",
       "      <td>1103.15</td>\n",
       "      <td>1104.79</td>\n",
       "      <td>3453926</td>\n",
       "    </tr>\n",
       "  </tbody>\n",
       "</table>\n",
       "</div>"
      ],
      "text/plain": [
       "   Prev Close  Open Price  High Price  Low Price  Last Price  Close Price  \\\n",
       "0     1090.55      1091.1      1091.1    1021.85      1077.3      1075.50   \n",
       "1     1075.50      1149.9      1149.9    1065.40      1068.7      1070.70   \n",
       "2     1070.70      1079.9      1094.5    1070.65      1087.0      1088.00   \n",
       "3     1088.00      1088.0      1115.0    1078.00      1101.9      1106.05   \n",
       "4     1106.05      1108.0      1113.8    1096.00      1103.9      1103.15   \n",
       "\n",
       "   Average Price  Total Traded Quantity  \n",
       "0        1044.44               17520006  \n",
       "1        1078.03                4890040  \n",
       "2        1084.64                5415538  \n",
       "3        1103.49                5988404  \n",
       "4        1104.79                3453926  "
      ]
     },
     "execution_count": 3,
     "metadata": {},
     "output_type": "execute_result"
    }
   ],
   "source": [
    "stock_price.head()"
   ]
  },
  {
   "cell_type": "code",
   "execution_count": 4,
   "id": "31b20799",
   "metadata": {},
   "outputs": [
    {
     "name": "stdout",
     "output_type": "stream",
     "text": [
      "<class 'pandas.core.frame.DataFrame'>\n",
      "RangeIndex: 2243 entries, 0 to 2242\n",
      "Data columns (total 8 columns):\n",
      " #   Column                 Non-Null Count  Dtype  \n",
      "---  ------                 --------------  -----  \n",
      " 0   Prev Close             2243 non-null   float64\n",
      " 1   Open Price             2243 non-null   float64\n",
      " 2   High Price             2243 non-null   float64\n",
      " 3   Low Price              2243 non-null   float64\n",
      " 4   Last Price             2243 non-null   float64\n",
      " 5   Close Price            2243 non-null   float64\n",
      " 6   Average Price          2243 non-null   float64\n",
      " 7   Total Traded Quantity  2243 non-null   int64  \n",
      "dtypes: float64(7), int64(1)\n",
      "memory usage: 140.3 KB\n"
     ]
    }
   ],
   "source": [
    "stock_price.info()"
   ]
  },
  {
   "cell_type": "code",
   "execution_count": 5,
   "id": "e0c9365b",
   "metadata": {},
   "outputs": [
    {
     "data": {
      "text/html": [
       "<div>\n",
       "<style scoped>\n",
       "    .dataframe tbody tr th:only-of-type {\n",
       "        vertical-align: middle;\n",
       "    }\n",
       "\n",
       "    .dataframe tbody tr th {\n",
       "        vertical-align: top;\n",
       "    }\n",
       "\n",
       "    .dataframe thead th {\n",
       "        text-align: right;\n",
       "    }\n",
       "</style>\n",
       "<table border=\"1\" class=\"dataframe\">\n",
       "  <thead>\n",
       "    <tr style=\"text-align: right;\">\n",
       "      <th></th>\n",
       "      <th>Prev Close</th>\n",
       "      <th>Open Price</th>\n",
       "      <th>High Price</th>\n",
       "      <th>Low Price</th>\n",
       "      <th>Last Price</th>\n",
       "      <th>Close Price</th>\n",
       "      <th>Average Price</th>\n",
       "      <th>Total Traded Quantity</th>\n",
       "    </tr>\n",
       "  </thead>\n",
       "  <tbody>\n",
       "    <tr>\n",
       "      <th>count</th>\n",
       "      <td>2243.000000</td>\n",
       "      <td>2243.000000</td>\n",
       "      <td>2243.000000</td>\n",
       "      <td>2243.000000</td>\n",
       "      <td>2243.000000</td>\n",
       "      <td>2243.000000</td>\n",
       "      <td>2243.000000</td>\n",
       "      <td>2.243000e+03</td>\n",
       "    </tr>\n",
       "    <tr>\n",
       "      <th>mean</th>\n",
       "      <td>962.768145</td>\n",
       "      <td>963.329202</td>\n",
       "      <td>973.893959</td>\n",
       "      <td>952.240013</td>\n",
       "      <td>962.248685</td>\n",
       "      <td>962.449576</td>\n",
       "      <td>963.125863</td>\n",
       "      <td>4.383986e+06</td>\n",
       "    </tr>\n",
       "    <tr>\n",
       "      <th>std</th>\n",
       "      <td>162.108484</td>\n",
       "      <td>160.811409</td>\n",
       "      <td>162.186977</td>\n",
       "      <td>159.506330</td>\n",
       "      <td>160.758330</td>\n",
       "      <td>160.724670</td>\n",
       "      <td>160.831851</td>\n",
       "      <td>2.933182e+06</td>\n",
       "    </tr>\n",
       "    <tr>\n",
       "      <th>min</th>\n",
       "      <td>676.100000</td>\n",
       "      <td>675.000000</td>\n",
       "      <td>682.800000</td>\n",
       "      <td>673.050000</td>\n",
       "      <td>676.150000</td>\n",
       "      <td>676.100000</td>\n",
       "      <td>676.940000</td>\n",
       "      <td>1.110540e+05</td>\n",
       "    </tr>\n",
       "    <tr>\n",
       "      <th>25%</th>\n",
       "      <td>852.525000</td>\n",
       "      <td>854.025000</td>\n",
       "      <td>863.400000</td>\n",
       "      <td>843.050000</td>\n",
       "      <td>852.475000</td>\n",
       "      <td>852.525000</td>\n",
       "      <td>852.320000</td>\n",
       "      <td>2.659170e+06</td>\n",
       "    </tr>\n",
       "    <tr>\n",
       "      <th>50%</th>\n",
       "      <td>947.400000</td>\n",
       "      <td>947.750000</td>\n",
       "      <td>957.700000</td>\n",
       "      <td>938.100000</td>\n",
       "      <td>947.000000</td>\n",
       "      <td>947.400000</td>\n",
       "      <td>948.470000</td>\n",
       "      <td>3.632863e+06</td>\n",
       "    </tr>\n",
       "    <tr>\n",
       "      <th>75%</th>\n",
       "      <td>1030.225000</td>\n",
       "      <td>1030.000000</td>\n",
       "      <td>1040.950000</td>\n",
       "      <td>1019.075000</td>\n",
       "      <td>1029.075000</td>\n",
       "      <td>1030.225000</td>\n",
       "      <td>1030.320000</td>\n",
       "      <td>5.119325e+06</td>\n",
       "    </tr>\n",
       "    <tr>\n",
       "      <th>max</th>\n",
       "      <td>2015.000000</td>\n",
       "      <td>1663.000000</td>\n",
       "      <td>1664.900000</td>\n",
       "      <td>1622.800000</td>\n",
       "      <td>1654.000000</td>\n",
       "      <td>1650.100000</td>\n",
       "      <td>1645.900000</td>\n",
       "      <td>4.312214e+07</td>\n",
       "    </tr>\n",
       "  </tbody>\n",
       "</table>\n",
       "</div>"
      ],
      "text/plain": [
       "        Prev Close   Open Price   High Price    Low Price   Last Price  \\\n",
       "count  2243.000000  2243.000000  2243.000000  2243.000000  2243.000000   \n",
       "mean    962.768145   963.329202   973.893959   952.240013   962.248685   \n",
       "std     162.108484   160.811409   162.186977   159.506330   160.758330   \n",
       "min     676.100000   675.000000   682.800000   673.050000   676.150000   \n",
       "25%     852.525000   854.025000   863.400000   843.050000   852.475000   \n",
       "50%     947.400000   947.750000   957.700000   938.100000   947.000000   \n",
       "75%    1030.225000  1030.000000  1040.950000  1019.075000  1029.075000   \n",
       "max    2015.000000  1663.000000  1664.900000  1622.800000  1654.000000   \n",
       "\n",
       "       Close Price  Average Price  Total Traded Quantity  \n",
       "count  2243.000000    2243.000000           2.243000e+03  \n",
       "mean    962.449576     963.125863           4.383986e+06  \n",
       "std     160.724670     160.831851           2.933182e+06  \n",
       "min     676.100000     676.940000           1.110540e+05  \n",
       "25%     852.525000     852.320000           2.659170e+06  \n",
       "50%     947.400000     948.470000           3.632863e+06  \n",
       "75%    1030.225000    1030.320000           5.119325e+06  \n",
       "max    1650.100000    1645.900000           4.312214e+07  "
      ]
     },
     "execution_count": 5,
     "metadata": {},
     "output_type": "execute_result"
    }
   ],
   "source": [
    "stock_price.describe()"
   ]
  },
  {
   "cell_type": "code",
   "execution_count": 6,
   "id": "72cb7b3e",
   "metadata": {},
   "outputs": [],
   "source": [
    "%matplotlib inline"
   ]
  },
  {
   "cell_type": "code",
   "execution_count": 7,
   "id": "a9525960",
   "metadata": {},
   "outputs": [],
   "source": [
    "import matplotlib.pyplot as plt"
   ]
  },
  {
   "cell_type": "code",
   "execution_count": 8,
   "id": "40a74242",
   "metadata": {},
   "outputs": [
    {
     "data": {
      "image/png": "[encoded data removed]",
      "text/plain": [
       "<Figure size 1440x1080 with 9 Axes>"
      ]
     },
     "metadata": {
      "needs_background": "light"
     },
     "output_type": "display_data"
    }
   ],
   "source": [
    "stock_price.hist(bins=50,figsize=(20,15))\n",
    "plt.show()"
   ]
  },
  {
   "cell_type": "markdown",
   "id": "b7f174e4",
   "metadata": {},
   "source": [
    "## TRAIN-TEST SPLITTING"
   ]
  },
  {
   "cell_type": "code",
   "execution_count": 9,
   "id": "4d7669e8",
   "metadata": {},
   "outputs": [],
   "source": [
    "import numpy as np\n",
    "def split_train_test(data, test_ratio):\n",
    "    np.random.seed(42)\n",
    "    shuffled = np.random.permutation(len(data))\n",
    "    print(shuffled)\n",
    "    test_set_size = int(len(data) * test_ratio)\n",
    "    test_indices = shuffled[:test_set_size]\n",
    "    train_indices = shuffled[test_set_size:]\n",
    "    return data.iloc[train_indices], data.iloc[test_indices]"
   ]
  },
  {
   "cell_type": "code",
   "execution_count": 10,
   "id": "fecdb92d",
   "metadata": {},
   "outputs": [
    {
     "name": "stdout",
     "output_type": "stream",
     "text": [
      "[ 727  907 1547 ... 1130 1294  860]\n"
     ]
    }
   ],
   "source": [
    "train_set, test_set = split_train_test(stock_price, 0.2)"
   ]
  },
  {
   "cell_type": "code",
   "execution_count": 11,
   "id": "f7e22c5e",
   "metadata": {},
   "outputs": [
    {
     "name": "stdout",
     "output_type": "stream",
     "text": [
      "ROWS IN TRAIN SET: 1795\n",
      "ROWS IN TEST SET: 448\n",
      "\n"
     ]
    }
   ],
   "source": [
    "print(f\"ROWS IN TRAIN SET: {len(train_set)}\\nROWS IN TEST SET: {len(test_set)}\\n\")"
   ]
  },
  {
   "cell_type": "code",
   "execution_count": 12,
   "id": "fc890d57",
   "metadata": {},
   "outputs": [
    {
     "name": "stdout",
     "output_type": "stream",
     "text": [
      "<class 'pandas.core.frame.DataFrame'>\n",
      "Int64Index: 448 entries, 727 to 621\n",
      "Data columns (total 8 columns):\n",
      " #   Column                 Non-Null Count  Dtype  \n",
      "---  ------                 --------------  -----  \n",
      " 0   Prev Close             448 non-null    float64\n",
      " 1   Open Price             448 non-null    float64\n",
      " 2   High Price             448 non-null    float64\n",
      " 3   Low Price              448 non-null    float64\n",
      " 4   Last Price             448 non-null    float64\n",
      " 5   Close Price            448 non-null    float64\n",
      " 6   Average Price          448 non-null    float64\n",
      " 7   Total Traded Quantity  448 non-null    int64  \n",
      "dtypes: float64(7), int64(1)\n",
      "memory usage: 31.5 KB\n"
     ]
    }
   ],
   "source": [
    "test_set.info()"
   ]
  },
  {
   "cell_type": "code",
   "execution_count": 13,
   "id": "f00f1bd2",
   "metadata": {},
   "outputs": [
    {
     "data": {
      "text/html": [
       "<div>\n",
       "<style scoped>\n",
       "    .dataframe tbody tr th:only-of-type {\n",
       "        vertical-align: middle;\n",
       "    }\n",
       "\n",
       "    .dataframe tbody tr th {\n",
       "        vertical-align: top;\n",
       "    }\n",
       "\n",
       "    .dataframe thead th {\n",
       "        text-align: right;\n",
       "    }\n",
       "</style>\n",
       "<table border=\"1\" class=\"dataframe\">\n",
       "  <thead>\n",
       "    <tr style=\"text-align: right;\">\n",
       "      <th></th>\n",
       "      <th>Prev Close</th>\n",
       "      <th>Open Price</th>\n",
       "      <th>High Price</th>\n",
       "      <th>Low Price</th>\n",
       "      <th>Last Price</th>\n",
       "      <th>Close Price</th>\n",
       "      <th>Average Price</th>\n",
       "      <th>Total Traded Quantity</th>\n",
       "    </tr>\n",
       "  </thead>\n",
       "  <tbody>\n",
       "    <tr>\n",
       "      <th>count</th>\n",
       "      <td>448.000000</td>\n",
       "      <td>448.000000</td>\n",
       "      <td>448.000000</td>\n",
       "      <td>448.000000</td>\n",
       "      <td>448.000000</td>\n",
       "      <td>448.000000</td>\n",
       "      <td>448.000000</td>\n",
       "      <td>4.480000e+02</td>\n",
       "    </tr>\n",
       "    <tr>\n",
       "      <th>mean</th>\n",
       "      <td>962.974107</td>\n",
       "      <td>964.287165</td>\n",
       "      <td>975.313281</td>\n",
       "      <td>953.141406</td>\n",
       "      <td>963.892522</td>\n",
       "      <td>964.008482</td>\n",
       "      <td>964.152723</td>\n",
       "      <td>4.397857e+06</td>\n",
       "    </tr>\n",
       "    <tr>\n",
       "      <th>std</th>\n",
       "      <td>162.819910</td>\n",
       "      <td>163.663776</td>\n",
       "      <td>165.212889</td>\n",
       "      <td>163.000512</td>\n",
       "      <td>164.235794</td>\n",
       "      <td>164.322267</td>\n",
       "      <td>164.287459</td>\n",
       "      <td>2.679431e+06</td>\n",
       "    </tr>\n",
       "    <tr>\n",
       "      <th>min</th>\n",
       "      <td>681.650000</td>\n",
       "      <td>675.000000</td>\n",
       "      <td>682.800000</td>\n",
       "      <td>673.050000</td>\n",
       "      <td>676.150000</td>\n",
       "      <td>676.100000</td>\n",
       "      <td>676.940000</td>\n",
       "      <td>1.664870e+05</td>\n",
       "    </tr>\n",
       "    <tr>\n",
       "      <th>25%</th>\n",
       "      <td>846.675000</td>\n",
       "      <td>849.675000</td>\n",
       "      <td>860.912500</td>\n",
       "      <td>839.750000</td>\n",
       "      <td>852.075000</td>\n",
       "      <td>851.437500</td>\n",
       "      <td>849.750000</td>\n",
       "      <td>2.705218e+06</td>\n",
       "    </tr>\n",
       "    <tr>\n",
       "      <th>50%</th>\n",
       "      <td>947.225000</td>\n",
       "      <td>948.975000</td>\n",
       "      <td>955.950000</td>\n",
       "      <td>935.525000</td>\n",
       "      <td>945.175000</td>\n",
       "      <td>945.375000</td>\n",
       "      <td>946.115000</td>\n",
       "      <td>3.737479e+06</td>\n",
       "    </tr>\n",
       "    <tr>\n",
       "      <th>75%</th>\n",
       "      <td>1031.787500</td>\n",
       "      <td>1030.450000</td>\n",
       "      <td>1043.912500</td>\n",
       "      <td>1021.000000</td>\n",
       "      <td>1034.787500</td>\n",
       "      <td>1033.812500</td>\n",
       "      <td>1032.567500</td>\n",
       "      <td>5.333487e+06</td>\n",
       "    </tr>\n",
       "    <tr>\n",
       "      <th>max</th>\n",
       "      <td>1602.150000</td>\n",
       "      <td>1604.200000</td>\n",
       "      <td>1629.900000</td>\n",
       "      <td>1601.100000</td>\n",
       "      <td>1621.150000</td>\n",
       "      <td>1622.750000</td>\n",
       "      <td>1620.720000</td>\n",
       "      <td>1.927085e+07</td>\n",
       "    </tr>\n",
       "  </tbody>\n",
       "</table>\n",
       "</div>"
      ],
      "text/plain": [
       "        Prev Close   Open Price   High Price    Low Price   Last Price  \\\n",
       "count   448.000000   448.000000   448.000000   448.000000   448.000000   \n",
       "mean    962.974107   964.287165   975.313281   953.141406   963.892522   \n",
       "std     162.819910   163.663776   165.212889   163.000512   164.235794   \n",
       "min     681.650000   675.000000   682.800000   673.050000   676.150000   \n",
       "25%     846.675000   849.675000   860.912500   839.750000   852.075000   \n",
       "50%     947.225000   948.975000   955.950000   935.525000   945.175000   \n",
       "75%    1031.787500  1030.450000  1043.912500  1021.000000  1034.787500   \n",
       "max    1602.150000  1604.200000  1629.900000  1601.100000  1621.150000   \n",
       "\n",
       "       Close Price  Average Price  Total Traded Quantity  \n",
       "count   448.000000     448.000000           4.480000e+02  \n",
       "mean    964.008482     964.152723           4.397857e+06  \n",
       "std     164.322267     164.287459           2.679431e+06  \n",
       "min     676.100000     676.940000           1.664870e+05  \n",
       "25%     851.437500     849.750000           2.705218e+06  \n",
       "50%     945.375000     946.115000           3.737479e+06  \n",
       "75%    1033.812500    1032.567500           5.333487e+06  \n",
       "max    1622.750000    1620.720000           1.927085e+07  "
      ]
     },
     "execution_count": 13,
     "metadata": {},
     "output_type": "execute_result"
    }
   ],
   "source": [
    "test_set.describe()"
   ]
  },
  {
   "cell_type": "code",
   "execution_count": 14,
   "id": "cbfce9b1",
   "metadata": {},
   "outputs": [],
   "source": [
    "stock_price = train_set.copy()"
   ]
  },
  {
   "cell_type": "markdown",
   "id": "ff1fcf93",
   "metadata": {},
   "source": [
    "## FINDING CORRELATIONS"
   ]
  },
  {
   "cell_type": "code",
   "execution_count": 15,
   "id": "912220e3",
   "metadata": {},
   "outputs": [],
   "source": [
    "corr_matrix = stock_price.corr()"
   ]
  },
  {
   "cell_type": "code",
   "execution_count": 16,
   "id": "a4f05228",
   "metadata": {},
   "outputs": [
    {
     "data": {
      "text/plain": [
       "Close Price              1.000000\n",
       "Last Price               0.999916\n",
       "Average Price            0.999312\n",
       "High Price               0.998306\n",
       "Low Price                0.998197\n",
       "Open Price               0.995719\n",
       "Prev Close               0.973814\n",
       "Total Traded Quantity    0.198852\n",
       "Name: Close Price, dtype: float64"
      ]
     },
     "execution_count": 16,
     "metadata": {},
     "output_type": "execute_result"
    }
   ],
   "source": [
    "corr_matrix['Close Price'].sort_values(ascending=False)"
   ]
  },
  {
   "cell_type": "code",
   "execution_count": 17,
   "id": "da013b0b",
   "metadata": {},
   "outputs": [
    {
     "data": {
      "text/plain": [
       "Open Price               1.000000\n",
       "High Price               0.998218\n",
       "Average Price            0.997749\n",
       "Low Price                0.997571\n",
       "Close Price              0.995719\n",
       "Last Price               0.995535\n",
       "Prev Close               0.977743\n",
       "Total Traded Quantity    0.192880\n",
       "Name: Open Price, dtype: float64"
      ]
     },
     "execution_count": 17,
     "metadata": {},
     "output_type": "execute_result"
    }
   ],
   "source": [
    "corr_matrix['Open Price'].sort_values(ascending=False)"
   ]
  },
  {
   "cell_type": "code",
   "execution_count": 18,
   "id": "17d5d47e",
   "metadata": {},
   "outputs": [
    {
     "data": {
      "text/plain": [
       "Average Price            1.000000\n",
       "Close Price              0.999312\n",
       "High Price               0.999288\n",
       "Last Price               0.999152\n",
       "Low Price                0.999020\n",
       "Open Price               0.997749\n",
       "Prev Close               0.975880\n",
       "Total Traded Quantity    0.195504\n",
       "Name: Average Price, dtype: float64"
      ]
     },
     "execution_count": 18,
     "metadata": {},
     "output_type": "execute_result"
    }
   ],
   "source": [
    "corr_matrix['Average Price'].sort_values(ascending=False)"
   ]
  },
  {
   "cell_type": "code",
   "execution_count": 19,
   "id": "db2f1108",
   "metadata": {},
   "outputs": [
    {
     "data": {
      "text/plain": [
       "High Price               1.000000\n",
       "Average Price            0.999288\n",
       "Close Price              0.998306\n",
       "Open Price               0.998218\n",
       "Last Price               0.998153\n",
       "Low Price                0.997616\n",
       "Prev Close               0.976050\n",
       "Total Traded Quantity    0.211443\n",
       "Name: High Price, dtype: float64"
      ]
     },
     "execution_count": 19,
     "metadata": {},
     "output_type": "execute_result"
    }
   ],
   "source": [
    "corr_matrix['High Price'].sort_values(ascending=False)"
   ]
  },
  {
   "cell_type": "code",
   "execution_count": 20,
   "id": "754c0de0",
   "metadata": {},
   "outputs": [
    {
     "data": {
      "text/plain": [
       "Low Price                1.000000\n",
       "Average Price            0.999020\n",
       "Close Price              0.998197\n",
       "Last Price               0.998047\n",
       "High Price               0.997616\n",
       "Open Price               0.997571\n",
       "Prev Close               0.975838\n",
       "Total Traded Quantity    0.178544\n",
       "Name: Low Price, dtype: float64"
      ]
     },
     "execution_count": 20,
     "metadata": {},
     "output_type": "execute_result"
    }
   ],
   "source": [
    "corr_matrix['Low Price'].sort_values(ascending=False)"
   ]
  },
  {
   "cell_type": "code",
   "execution_count": 21,
   "id": "b39978b1",
   "metadata": {},
   "outputs": [
    {
     "data": {
      "text/plain": [
       "Last Price               1.000000\n",
       "Close Price              0.999916\n",
       "Average Price            0.999152\n",
       "High Price               0.998153\n",
       "Low Price                0.998047\n",
       "Open Price               0.995535\n",
       "Prev Close               0.973641\n",
       "Total Traded Quantity    0.198634\n",
       "Name: Last Price, dtype: float64"
      ]
     },
     "execution_count": 21,
     "metadata": {},
     "output_type": "execute_result"
    }
   ],
   "source": [
    "corr_matrix['Last Price'].sort_values(ascending=False)"
   ]
  },
  {
   "cell_type": "code",
   "execution_count": 22,
   "id": "8745c034",
   "metadata": {},
   "outputs": [
    {
     "data": {
      "text/plain": [
       "array([[<AxesSubplot:xlabel='Close Price', ylabel='Close Price'>,\n",
       "        <AxesSubplot:xlabel='Last Price', ylabel='Close Price'>,\n",
       "        <AxesSubplot:xlabel='Average Price', ylabel='Close Price'>,\n",
       "        <AxesSubplot:xlabel='Prev Close', ylabel='Close Price'>,\n",
       "        <AxesSubplot:xlabel='Open Price', ylabel='Close Price'>,\n",
       "        <AxesSubplot:xlabel='High Price', ylabel='Close Price'>,\n",
       "        <AxesSubplot:xlabel='Low Price', ylabel='Close Price'>],\n",
       "       [<AxesSubplot:xlabel='Close Price', ylabel='Last Price'>,\n",
       "        <AxesSubplot:xlabel='Last Price', ylabel='Last Price'>,\n",
       "        <AxesSubplot:xlabel='Average Price', ylabel='Last Price'>,\n",
       "        <AxesSubplot:xlabel='Prev Close', ylabel='Last Price'>,\n",
       "        <AxesSubplot:xlabel='Open Price', ylabel='Last Price'>,\n",
       "        <AxesSubplot:xlabel='High Price', ylabel='Last Price'>,\n",
       "        <AxesSubplot:xlabel='Low Price', ylabel='Last Price'>],\n",
       "       [<AxesSubplot:xlabel='Close Price', ylabel='Average Price'>,\n",
       "        <AxesSubplot:xlabel='Last Price', ylabel='Average Price'>,\n",
       "        <AxesSubplot:xlabel='Average Price', ylabel='Average Price'>,\n",
       "        <AxesSubplot:xlabel='Prev Close', ylabel='Average Price'>,\n",
       "        <AxesSubplot:xlabel='Open Price', ylabel='Average Price'>,\n",
       "        <AxesSubplot:xlabel='High Price', ylabel='Average Price'>,\n",
       "        <AxesSubplot:xlabel='Low Price', ylabel='Average Price'>],\n",
       "       [<AxesSubplot:xlabel='Close Price', ylabel='Prev Close'>,\n",
       "        <AxesSubplot:xlabel='Last Price', ylabel='Prev Close'>,\n",
       "        <AxesSubplot:xlabel='Average Price', ylabel='Prev Close'>,\n",
       "        <AxesSubplot:xlabel='Prev Close', ylabel='Prev Close'>,\n",
       "        <AxesSubplot:xlabel='Open Price', ylabel='Prev Close'>,\n",
       "        <AxesSubplot:xlabel='High Price', ylabel='Prev Close'>,\n",
       "        <AxesSubplot:xlabel='Low Price', ylabel='Prev Close'>],\n",
       "       [<AxesSubplot:xlabel='Close Price', ylabel='Open Price'>,\n",
       "        <AxesSubplot:xlabel='Last Price', ylabel='Open Price'>,\n",
       "        <AxesSubplot:xlabel='Average Price', ylabel='Open Price'>,\n",
       "        <AxesSubplot:xlabel='Prev Close', ylabel='Open Price'>,\n",
       "        <AxesSubplot:xlabel='Open Price', ylabel='Open Price'>,\n",
       "        <AxesSubplot:xlabel='High Price', ylabel='Open Price'>,\n",
       "        <AxesSubplot:xlabel='Low Price', ylabel='Open Price'>],\n",
       "       [<AxesSubplot:xlabel='Close Price', ylabel='High Price'>,\n",
       "        <AxesSubplot:xlabel='Last Price', ylabel='High Price'>,\n",
       "        <AxesSubplot:xlabel='Average Price', ylabel='High Price'>,\n",
       "        <AxesSubplot:xlabel='Prev Close', ylabel='High Price'>,\n",
       "        <AxesSubplot:xlabel='Open Price', ylabel='High Price'>,\n",
       "        <AxesSubplot:xlabel='High Price', ylabel='High Price'>,\n",
       "        <AxesSubplot:xlabel='Low Price', ylabel='High Price'>],\n",
       "       [<AxesSubplot:xlabel='Close Price', ylabel='Low Price'>,\n",
       "        <AxesSubplot:xlabel='Last Price', ylabel='Low Price'>,\n",
       "        <AxesSubplot:xlabel='Average Price', ylabel='Low Price'>,\n",
       "        <AxesSubplot:xlabel='Prev Close', ylabel='Low Price'>,\n",
       "        <AxesSubplot:xlabel='Open Price', ylabel='Low Price'>,\n",
       "        <AxesSubplot:xlabel='High Price', ylabel='Low Price'>,\n",
       "        <AxesSubplot:xlabel='Low Price', ylabel='Low Price'>]],\n",
       "      dtype=object)"
      ]
     },
     "execution_count": 22,
     "metadata": {},
     "output_type": "execute_result"
    },
    {
     "data": {
      "image/png": "[encoded data removed]",
      "text/plain": [
       "<Figure size 864x576 with 49 Axes>"
      ]
     },
     "metadata": {
      "needs_background": "light"
     },
     "output_type": "display_data"
    }
   ],
   "source": [
    "from pandas.plotting import scatter_matrix\n",
    "attributes = ['Close Price', 'Last Price', 'Average Price', 'Prev Close', 'Open Price', 'High Price', 'Low Price']\n",
    "scatter_matrix(stock_price[attributes],figsize = (12,8))"
   ]
  },
  {
   "cell_type": "code",
   "execution_count": 23,
   "id": "c9aa2ad9",
   "metadata": {},
   "outputs": [],
   "source": [
    "stock_price = train_set.drop(\"Close Price\", axis=1)\n",
    "stock_price_labels = train_set[\"Close Price\"].copy()"
   ]
  },
  {
   "cell_type": "markdown",
   "id": "f6bbcb4b",
   "metadata": {},
   "source": [
    "## CREATING A PIPELINE"
   ]
  },
  {
   "cell_type": "code",
   "execution_count": 24,
   "id": "a915d425",
   "metadata": {},
   "outputs": [],
   "source": [
    "from sklearn.pipeline import Pipeline\n",
    "from sklearn.preprocessing import StandardScaler\n",
    "my_pipeline = Pipeline([('std_scaler', StandardScaler()),])"
   ]
  },
  {
   "cell_type": "code",
   "execution_count": 25,
   "id": "da53ee42",
   "metadata": {},
   "outputs": [],
   "source": [
    "stock_price_num = my_pipeline.fit_transform(stock_price)"
   ]
  },
  {
   "cell_type": "code",
   "execution_count": 26,
   "id": "5a0eb91d",
   "metadata": {},
   "outputs": [
    {
     "data": {
      "text/plain": [
       "array([[ 0.05300572,  0.05440542,  0.11435988, ...,  0.18239905,\n",
       "         0.12534752,  0.2072158 ],\n",
       "       [-0.13411125, -0.13111256, -0.1092766 , ..., -0.09593826,\n",
       "        -0.08283124, -0.44276326],\n",
       "       [-0.97119724, -1.05308069, -1.08125896, ..., -1.08262838,\n",
       "        -1.08652795,  0.06242983],\n",
       "       ...,\n",
       "       [ 0.30496521,  0.30894608,  0.28781753, ...,  0.32375688,\n",
       "         0.30245575,  0.1140042 ],\n",
       "       [-0.60807916, -0.58772415, -0.41561521, ..., -0.38584689,\n",
       "        -0.43004591,  0.11250538],\n",
       "       [-0.70904822, -0.73763767, -0.79009789, ..., -0.80585476,\n",
       "        -0.78838845, -0.07169131]])"
      ]
     },
     "execution_count": 26,
     "metadata": {},
     "output_type": "execute_result"
    }
   ],
   "source": [
    "stock_price_num"
   ]
  },
  {
   "cell_type": "markdown",
   "id": "c29b2606",
   "metadata": {},
   "source": [
    "## SELECTING A DESIRED MODEL FOR STOCK PRICE PREDICTION"
   ]
  },
  {
   "cell_type": "code",
   "execution_count": 27,
   "id": "4ab584aa",
   "metadata": {},
   "outputs": [
    {
     "data": {
      "text/plain": [
       "RandomForestRegressor()"
      ]
     },
     "execution_count": 27,
     "metadata": {},
     "output_type": "execute_result"
    }
   ],
   "source": [
    "from sklearn.linear_model import LinearRegression\n",
    "from sklearn.tree import DecisionTreeRegressor\n",
    "from sklearn.ensemble import RandomForestRegressor\n",
    "model = LinearRegression()\n",
    "model1 = DecisionTreeRegressor()\n",
    "model2 = RandomForestRegressor()\n",
    "model.fit(stock_price_num, stock_price_labels)\n",
    "model1.fit(stock_price_num, stock_price_labels)\n",
    "model2.fit(stock_price_num, stock_price_labels)"
   ]
  },
  {
   "cell_type": "code",
   "execution_count": 28,
   "id": "b09b4dca",
   "metadata": {},
   "outputs": [],
   "source": [
    "some_data = stock_price.iloc[:5]"
   ]
  },
  {
   "cell_type": "code",
   "execution_count": 29,
   "id": "361f9dc2",
   "metadata": {},
   "outputs": [],
   "source": [
    "some_labels = stock_price_labels.iloc[:5]"
   ]
  },
  {
   "cell_type": "code",
   "execution_count": 30,
   "id": "6aa09db0",
   "metadata": {},
   "outputs": [],
   "source": [
    "prepared_data = my_pipeline.transform(some_data)"
   ]
  },
  {
   "cell_type": "code",
   "execution_count": 31,
   "id": "63d5a537",
   "metadata": {},
   "outputs": [
    {
     "data": {
      "text/plain": [
       "array([ 990.11458447,  947.48968163,  788.73221093, 1061.20333415,\n",
       "        862.26689047])"
      ]
     },
     "execution_count": 31,
     "metadata": {},
     "output_type": "execute_result"
    }
   ],
   "source": [
    "model.predict(prepared_data)"
   ]
  },
  {
   "cell_type": "code",
   "execution_count": 32,
   "id": "abe48f23",
   "metadata": {},
   "outputs": [
    {
     "data": {
      "text/plain": [
       "array([ 990.1 ,  947.7 ,  788.85, 1060.65,  861.85])"
      ]
     },
     "execution_count": 32,
     "metadata": {},
     "output_type": "execute_result"
    }
   ],
   "source": [
    "model1.predict(prepared_data)"
   ]
  },
  {
   "cell_type": "code",
   "execution_count": 33,
   "id": "187ee540",
   "metadata": {},
   "outputs": [
    {
     "data": {
      "text/plain": [
       "array([ 990.135 ,  947.712 ,  788.8045, 1060.83  ,  862.071 ])"
      ]
     },
     "execution_count": 33,
     "metadata": {},
     "output_type": "execute_result"
    }
   ],
   "source": [
    "model2.predict(prepared_data)"
   ]
  },
  {
   "cell_type": "code",
   "execution_count": 34,
   "id": "d2f5a053",
   "metadata": {},
   "outputs": [
    {
     "data": {
      "text/plain": [
       "[990.1, 947.7, 788.85, 1060.65, 861.85]"
      ]
     },
     "execution_count": 34,
     "metadata": {},
     "output_type": "execute_result"
    }
   ],
   "source": [
    "list(some_labels)"
   ]
  },
  {
   "cell_type": "markdown",
   "id": "95838e82",
   "metadata": {},
   "source": [
    "## EVALUATING THE MODEL"
   ]
  },
  {
   "cell_type": "code",
   "execution_count": 35,
   "id": "3ba3b49d",
   "metadata": {},
   "outputs": [],
   "source": [
    "from sklearn.metrics import mean_squared_error\n",
    "price_predictions = model.predict(stock_price_num)\n",
    "lin_mse = mean_squared_error(stock_price_labels, price_predictions)\n",
    "lin_rmse = np.sqrt(lin_mse)\n"
   ]
  },
  {
   "cell_type": "code",
   "execution_count": 36,
   "id": "727c4297",
   "metadata": {},
   "outputs": [],
   "source": [
    "price_predictions = model1.predict(stock_price_num)\n",
    "dec_mse = mean_squared_error(stock_price_labels, price_predictions)\n",
    "dec_rmse = np.sqrt(dec_mse)\n"
   ]
  },
  {
   "cell_type": "code",
   "execution_count": 37,
   "id": "507a9840",
   "metadata": {},
   "outputs": [],
   "source": [
    "price_predictions = model2.predict(stock_price_num)\n",
    "ran_mse = mean_squared_error(stock_price_labels, price_predictions)\n",
    "ran_rmse = np.sqrt(ran_mse)\n"
   ]
  },
  {
   "cell_type": "code",
   "execution_count": 38,
   "id": "05f309e0",
   "metadata": {},
   "outputs": [
    {
     "data": {
      "text/plain": [
       "1.7756875936329315"
      ]
     },
     "execution_count": 38,
     "metadata": {},
     "output_type": "execute_result"
    }
   ],
   "source": [
    "lin_rmse"
   ]
  },
  {
   "cell_type": "code",
   "execution_count": 39,
   "id": "9b9539bb",
   "metadata": {},
   "outputs": [
    {
     "data": {
      "text/plain": [
       "4.647705350106186e-15"
      ]
     },
     "execution_count": 39,
     "metadata": {},
     "output_type": "execute_result"
    }
   ],
   "source": [
    "dec_rmse"
   ]
  },
  {
   "cell_type": "code",
   "execution_count": 40,
   "id": "c1eb1367",
   "metadata": {},
   "outputs": [
    {
     "data": {
      "text/plain": [
       "1.078841463682444"
      ]
     },
     "execution_count": 40,
     "metadata": {},
     "output_type": "execute_result"
    }
   ],
   "source": [
    "ran_rmse"
   ]
  },
  {
   "cell_type": "markdown",
   "id": "86782108",
   "metadata": {},
   "source": [
    "## CROSS VALIDATION"
   ]
  },
  {
   "cell_type": "code",
   "execution_count": 41,
   "id": "3a20d177",
   "metadata": {},
   "outputs": [],
   "source": [
    "from sklearn.model_selection import cross_val_score\n",
    "scores = cross_val_score(model, stock_price, stock_price_labels, scoring=\"neg_mean_squared_error\", cv=10)\n",
    "rmse_scores = np.sqrt(-scores)"
   ]
  },
  {
   "cell_type": "code",
   "execution_count": 42,
   "id": "2fe0e530",
   "metadata": {},
   "outputs": [],
   "source": [
    "scores1 = cross_val_score(model1, stock_price, stock_price_labels, scoring=\"neg_mean_squared_error\", cv=10)\n",
    "rmse_scores1 = np.sqrt(-scores1)"
   ]
  },
  {
   "cell_type": "code",
   "execution_count": 43,
   "id": "ef0f5cc2",
   "metadata": {},
   "outputs": [],
   "source": [
    "scores2 = cross_val_score(model2, stock_price, stock_price_labels, scoring=\"neg_mean_squared_error\", cv=10)\n",
    "rmse_scores2 = np.sqrt(-scores2)"
   ]
  },
  {
   "cell_type": "code",
   "execution_count": 44,
   "id": "347f3ce1",
   "metadata": {},
   "outputs": [
    {
     "data": {
      "text/plain": [
       "array([1.73373263, 1.71883173, 2.08080183, 1.83930709, 1.92017238,\n",
       "       1.86302943, 1.7645314 , 1.63781012, 1.70563969, 1.65663261])"
      ]
     },
     "execution_count": 44,
     "metadata": {},
     "output_type": "execute_result"
    }
   ],
   "source": [
    "rmse_scores"
   ]
  },
  {
   "cell_type": "code",
   "execution_count": 45,
   "id": "07bd4b25",
   "metadata": {},
   "outputs": [
    {
     "data": {
      "text/plain": [
       "array([2.63152364, 3.71602012, 3.81627545, 2.74680875, 5.52233973,\n",
       "       3.64245029, 2.87630951, 3.52272154, 4.46604977, 2.47729635])"
      ]
     },
     "execution_count": 45,
     "metadata": {},
     "output_type": "execute_result"
    }
   ],
   "source": [
    "rmse_scores1"
   ]
  },
  {
   "cell_type": "code",
   "execution_count": 46,
   "id": "8c6110a1",
   "metadata": {},
   "outputs": [
    {
     "data": {
      "text/plain": [
       "array([2.23320132, 2.9991636 , 3.58429321, 2.36147525, 3.40428183,\n",
       "       2.57829062, 2.64486489, 2.75666934, 2.73405726, 2.49569399])"
      ]
     },
     "execution_count": 46,
     "metadata": {},
     "output_type": "execute_result"
    }
   ],
   "source": [
    "rmse_scores2"
   ]
  },
  {
   "cell_type": "code",
   "execution_count": 47,
   "id": "4267daa1",
   "metadata": {},
   "outputs": [],
   "source": [
    "def print_scores(scores):\n",
    "    print(\"Scores:\", scores)\n",
    "    print(\"\\n\")\n",
    "    print(\"Mean:\", scores.mean())\n",
    "    print(\"\\n\")\n",
    "    print(\"Standard Deviation:\", scores.std())"
   ]
  },
  {
   "cell_type": "code",
   "execution_count": 48,
   "id": "0e505cd6",
   "metadata": {},
   "outputs": [
    {
     "name": "stdout",
     "output_type": "stream",
     "text": [
      "Scores: [1.73373263 1.71883173 2.08080183 1.83930709 1.92017238 1.86302943\n",
      " 1.7645314  1.63781012 1.70563969 1.65663261]\n",
      "\n",
      "\n",
      "Mean: 1.792048890194702\n",
      "\n",
      "\n",
      "Standard Deviation: 0.1289100200986764\n"
     ]
    }
   ],
   "source": [
    "print_scores(rmse_scores)"
   ]
  },
  {
   "cell_type": "code",
   "execution_count": 49,
   "id": "b7086cb3",
   "metadata": {},
   "outputs": [
    {
     "name": "stdout",
     "output_type": "stream",
     "text": [
      "Scores: [2.63152364 3.71602012 3.81627545 2.74680875 5.52233973 3.64245029\n",
      " 2.87630951 3.52272154 4.46604977 2.47729635]\n",
      "\n",
      "\n",
      "Mean: 3.541779516933789\n",
      "\n",
      "\n",
      "Standard Deviation: 0.8904840760738643\n"
     ]
    }
   ],
   "source": [
    "print_scores(rmse_scores1)"
   ]
  },
  {
   "cell_type": "code",
   "execution_count": 50,
   "id": "f1ab689e",
   "metadata": {},
   "outputs": [
    {
     "name": "stdout",
     "output_type": "stream",
     "text": [
      "Scores: [2.23320132 2.9991636  3.58429321 2.36147525 3.40428183 2.57829062\n",
      " 2.64486489 2.75666934 2.73405726 2.49569399]\n",
      "\n",
      "\n",
      "Mean: 2.779199129600495\n",
      "\n",
      "\n",
      "Standard Deviation: 0.4124592750398397\n"
     ]
    }
   ],
   "source": [
    "print_scores(rmse_scores2)"
   ]
  },
  {
   "cell_type": "markdown",
   "id": "2ef65d79",
   "metadata": {},
   "source": [
    "## SAVING THE MODEL"
   ]
  },
  {
   "cell_type": "code",
   "execution_count": 51,
   "id": "a27340ca",
   "metadata": {},
   "outputs": [
    {
     "data": {
      "text/plain": [
       "['Linear_Regression.joblib']"
      ]
     },
     "execution_count": 51,
     "metadata": {},
     "output_type": "execute_result"
    }
   ],
   "source": [
    "from joblib import dump, load\n",
    "dump(model, \"Linear_Regression.joblib\")"
   ]
  },
  {
   "cell_type": "code",
   "execution_count": 52,
   "id": "27b8e017",
   "metadata": {},
   "outputs": [
    {
     "data": {
      "text/plain": [
       "['Decision_Tree_Regression.joblib']"
      ]
     },
     "execution_count": 52,
     "metadata": {},
     "output_type": "execute_result"
    }
   ],
   "source": [
    "from joblib import dump, load\n",
    "dump(model1, \"Decision_Tree_Regression.joblib\")"
   ]
  },
  {
   "cell_type": "code",
   "execution_count": 53,
   "id": "b80c14aa",
   "metadata": {},
   "outputs": [
    {
     "data": {
      "text/plain": [
       "['Random_Forest_Regression.joblib']"
      ]
     },
     "execution_count": 53,
     "metadata": {},
     "output_type": "execute_result"
    }
   ],
   "source": [
    "from joblib import dump, load\n",
    "dump(model2, \"Random_Forest_Regression.joblib\")"
   ]
  },
  {
   "cell_type": "markdown",
   "id": "7ff2a8ea",
   "metadata": {},
   "source": [
    "## IMPLEMENTING MODELS ON TEST_SET"
   ]
  },
  {
   "cell_type": "markdown",
   "id": "b8457118",
   "metadata": {},
   "source": [
    "## LINEAR REGRESSION"
   ]
  },
  {
   "cell_type": "code",
   "execution_count": 54,
   "id": "c505bc20",
   "metadata": {},
   "outputs": [
    {
     "data": {
      "text/plain": [
       "1.7906056032906494"
      ]
     },
     "execution_count": 54,
     "metadata": {},
     "output_type": "execute_result"
    }
   ],
   "source": [
    "x_test_set = test_set.drop(\"Close Price\", axis=1)\n",
    "y_test_set = test_set[\"Close Price\"].copy()\n",
    "x_test_prepared = my_pipeline.transform(x_test_set)\n",
    "final_predictions = model.predict(x_test_prepared)\n",
    "mse_model = mean_squared_error(y_test_set, final_predictions)\n",
    "rmse_model = np.sqrt(mse_model)\n",
    "rmse_model"
   ]
  },
  {
   "cell_type": "markdown",
   "id": "b282802c",
   "metadata": {},
   "source": [
    "## DECISION TREE REGRESSION"
   ]
  },
  {
   "cell_type": "code",
   "execution_count": 55,
   "id": "e3f3b63d",
   "metadata": {},
   "outputs": [
    {
     "data": {
      "text/plain": [
       "3.307298814203003"
      ]
     },
     "execution_count": 55,
     "metadata": {},
     "output_type": "execute_result"
    }
   ],
   "source": [
    "x_test_set = test_set.drop(\"Close Price\", axis=1)\n",
    "y_test_set = test_set[\"Close Price\"].copy()\n",
    "x_test_prepared = my_pipeline.transform(x_test_set)\n",
    "final_predictions = model1.predict(x_test_prepared)\n",
    "mse_model1 = mean_squared_error(y_test_set, final_predictions)\n",
    "rmse_model1 = np.sqrt(mse_model1)\n",
    "rmse_model1"
   ]
  },
  {
   "cell_type": "markdown",
   "id": "7a36fd7e",
   "metadata": {},
   "source": [
    "## RANDOM FOREST REGRESSION "
   ]
  },
  {
   "cell_type": "code",
   "execution_count": 56,
   "id": "69ff995a",
   "metadata": {},
   "outputs": [
    {
     "data": {
      "text/plain": [
       "2.7282285579060015"
      ]
     },
     "execution_count": 56,
     "metadata": {},
     "output_type": "execute_result"
    }
   ],
   "source": [
    "x_test_set = test_set.drop(\"Close Price\", axis=1)\n",
    "y_test_set = test_set[\"Close Price\"].copy()\n",
    "x_test_prepared = my_pipeline.transform(x_test_set)\n",
    "final_predictions = model2.predict(x_test_prepared)\n",
    "mse_model2 = mean_squared_error(y_test_set, final_predictions)\n",
    "rmse_model2 = np.sqrt(mse_model2)\n",
    "rmse_model2"
   ]
  },
  {
   "cell_type": "markdown",
   "id": "660e6aa6",
   "metadata": {},
   "source": [
    "## THE BEST RESULTS ARE FROM LINEAR REGRESSION WHICH GIVES THE RMSE VALUE OF \"1.79\""
   ]
  }
 ],
 "metadata": {
  "kernelspec": {
   "display_name": "Python 3 (ipykernel)",
   "language": "python",
   "name": "python3"
  },
  "language_info": {
   "codemirror_mode": {
    "name": "ipython",
    "version": 3
   },
   "file_extension": ".py",
   "mimetype": "text/x-python",
   "name": "python",
   "nbconvert_exporter": "python",
   "pygments_lexer": "ipython3",
   "version": "3.8.0"
  }
 },
 "nbformat": 4,
 "nbformat_minor": 5
}
