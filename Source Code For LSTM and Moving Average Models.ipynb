{
 "cells": [
  {
   "cell_type": "markdown",
   "id": "d963195b",
   "metadata": {},
   "source": [
    "## Reliance Industries' Stock Price Prediction using LSTM and Moving Average Models"
   ]
  },
  {
   "cell_type": "code",
   "execution_count": 1,
   "id": "f60ea8d1",
   "metadata": {},
   "outputs": [],
   "source": [
    "import pandas as pd"
   ]
  },
  {
   "cell_type": "code",
   "execution_count": 2,
   "id": "513d2b6c",
   "metadata": {},
   "outputs": [],
   "source": [
    "stock_price = pd.read_csv(\"Reliance Industries’ Stocks Dataset [2010-2018]_2.csv\")"
   ]
  },
  {
   "cell_type": "code",
   "execution_count": 3,
   "id": "0cc06f24",
   "metadata": {},
   "outputs": [
    {
     "data": {
      "text/html": [
       "<div>\n",
       "<style scoped>\n",
       "    .dataframe tbody tr th:only-of-type {\n",
       "        vertical-align: middle;\n",
       "    }\n",
       "\n",
       "    .dataframe tbody tr th {\n",
       "        vertical-align: top;\n",
       "    }\n",
       "\n",
       "    .dataframe thead th {\n",
       "        text-align: right;\n",
       "    }\n",
       "</style>\n",
       "<table border=\"1\" class=\"dataframe\">\n",
       "  <thead>\n",
       "    <tr style=\"text-align: right;\">\n",
       "      <th></th>\n",
       "      <th>Date</th>\n",
       "      <th>Prev Close</th>\n",
       "      <th>Open Price</th>\n",
       "      <th>High Price</th>\n",
       "      <th>Low Price</th>\n",
       "      <th>Last Price</th>\n",
       "      <th>Close Price</th>\n",
       "      <th>Average Price</th>\n",
       "      <th>Total Traded Quantity</th>\n",
       "    </tr>\n",
       "  </thead>\n",
       "  <tbody>\n",
       "    <tr>\n",
       "      <th>0</th>\n",
       "      <td>04-Jan-10</td>\n",
       "      <td>1090.55</td>\n",
       "      <td>1091.1</td>\n",
       "      <td>1091.1</td>\n",
       "      <td>1021.85</td>\n",
       "      <td>1077.3</td>\n",
       "      <td>1075.50</td>\n",
       "      <td>1044.44</td>\n",
       "      <td>17520006</td>\n",
       "    </tr>\n",
       "    <tr>\n",
       "      <th>1</th>\n",
       "      <td>05-Jan-10</td>\n",
       "      <td>1075.50</td>\n",
       "      <td>1149.9</td>\n",
       "      <td>1149.9</td>\n",
       "      <td>1065.40</td>\n",
       "      <td>1068.7</td>\n",
       "      <td>1070.70</td>\n",
       "      <td>1078.03</td>\n",
       "      <td>4890040</td>\n",
       "    </tr>\n",
       "    <tr>\n",
       "      <th>2</th>\n",
       "      <td>06-Jan-10</td>\n",
       "      <td>1070.70</td>\n",
       "      <td>1079.9</td>\n",
       "      <td>1094.5</td>\n",
       "      <td>1070.65</td>\n",
       "      <td>1087.0</td>\n",
       "      <td>1088.00</td>\n",
       "      <td>1084.64</td>\n",
       "      <td>5415538</td>\n",
       "    </tr>\n",
       "    <tr>\n",
       "      <th>3</th>\n",
       "      <td>07-Jan-10</td>\n",
       "      <td>1088.00</td>\n",
       "      <td>1088.0</td>\n",
       "      <td>1115.0</td>\n",
       "      <td>1078.00</td>\n",
       "      <td>1101.9</td>\n",
       "      <td>1106.05</td>\n",
       "      <td>1103.49</td>\n",
       "      <td>5988404</td>\n",
       "    </tr>\n",
       "    <tr>\n",
       "      <th>4</th>\n",
       "      <td>08-Jan-10</td>\n",
       "      <td>1106.05</td>\n",
       "      <td>1108.0</td>\n",
       "      <td>1113.8</td>\n",
       "      <td>1096.00</td>\n",
       "      <td>1103.9</td>\n",
       "      <td>1103.15</td>\n",
       "      <td>1104.79</td>\n",
       "      <td>3453926</td>\n",
       "    </tr>\n",
       "  </tbody>\n",
       "</table>\n",
       "</div>"
      ],
      "text/plain": [
       "        Date  Prev Close  Open Price  High Price  Low Price  Last Price  \\\n",
       "0  04-Jan-10     1090.55      1091.1      1091.1    1021.85      1077.3   \n",
       "1  05-Jan-10     1075.50      1149.9      1149.9    1065.40      1068.7   \n",
       "2  06-Jan-10     1070.70      1079.9      1094.5    1070.65      1087.0   \n",
       "3  07-Jan-10     1088.00      1088.0      1115.0    1078.00      1101.9   \n",
       "4  08-Jan-10     1106.05      1108.0      1113.8    1096.00      1103.9   \n",
       "\n",
       "   Close Price  Average Price  Total Traded Quantity  \n",
       "0      1075.50        1044.44               17520006  \n",
       "1      1070.70        1078.03                4890040  \n",
       "2      1088.00        1084.64                5415538  \n",
       "3      1106.05        1103.49                5988404  \n",
       "4      1103.15        1104.79                3453926  "
      ]
     },
     "execution_count": 3,
     "metadata": {},
     "output_type": "execute_result"
    }
   ],
   "source": [
    "stock_price.head()"
   ]
  },
  {
   "cell_type": "code",
   "execution_count": 4,
   "id": "8114e4da",
   "metadata": {},
   "outputs": [],
   "source": [
    "from sklearn.preprocessing import StandardScaler\n",
    "from sklearn.pipeline import Pipeline\n",
    "from keras.models import Sequential\n",
    "from keras.layers import Dense, Dropout, LSTM\n",
    "import numpy as np"
   ]
  },
  {
   "cell_type": "markdown",
   "id": "2d535a35",
   "metadata": {},
   "source": [
    "## USING LSTM MODEL"
   ]
  },
  {
   "cell_type": "code",
   "execution_count": 5,
   "id": "06156c48",
   "metadata": {},
   "outputs": [
    {
     "name": "stdout",
     "output_type": "stream",
     "text": [
      "Epoch 1/10\n",
      "347/347 [==============================] - 6s 12ms/step - loss: 0.0342\n",
      "Epoch 2/10\n",
      "347/347 [==============================] - 4s 12ms/step - loss: 0.0185\n",
      "Epoch 3/10\n",
      "347/347 [==============================] - 4s 12ms/step - loss: 0.0141\n",
      "Epoch 4/10\n",
      "347/347 [==============================] - 4s 12ms/step - loss: 0.0110\n",
      "Epoch 5/10\n",
      "347/347 [==============================] - 5s 13ms/step - loss: 0.0101\n",
      "Epoch 6/10\n",
      "347/347 [==============================] - 5s 14ms/step - loss: 0.0095\n",
      "Epoch 7/10\n",
      "347/347 [==============================] - 5s 14ms/step - loss: 0.0096\n",
      "Epoch 8/10\n",
      "347/347 [==============================] - 5s 13ms/step - loss: 0.0097\n",
      "Epoch 9/10\n",
      "347/347 [==============================] - 5s 13ms/step - loss: 0.0096\n",
      "Epoch 10/10\n",
      "347/347 [==============================] - 4s 13ms/step - loss: 0.0097\n"
     ]
    }
   ],
   "source": [
    "#creating dataframe\n",
    "data = stock_price.sort_index(ascending=True, axis=0)\n",
    "new_data = pd.DataFrame(index=range(0,len(stock_price)),columns=['Date', 'Close Price'])\n",
    "for i in range(0,len(data)):\n",
    "    new_data['Date'][i] = data['Date'][i]\n",
    "    new_data['Close Price'][i] = data['Close Price'][i]\n",
    "\n",
    "#setting index\n",
    "new_data.index = new_data.Date\n",
    "new_data.drop('Date', axis=1, inplace=True)\n",
    "\n",
    "#creating train and test sets\n",
    "dataset = new_data.values\n",
    "\n",
    "train_set = dataset[0:1795,:]\n",
    "test_set = dataset[1795:,:]\n",
    "\n",
    "#converting dataset into x_train and y_train\n",
    "my_pipeline = Pipeline([('std_scaler', StandardScaler()),])\n",
    "stock_price_scaled = my_pipeline.fit_transform(dataset)\n",
    "\n",
    "x_train_set, y_train_set = [], []\n",
    "for i in range(60,len(train_set)):\n",
    "    x_train_set.append(stock_price_scaled[i-60:i,0])\n",
    "    y_train_set.append(stock_price_scaled[i,0])\n",
    "x_train_set, y_train_set = np.array(x_train_set), np.array(y_train_set)\n",
    "\n",
    "x_train_set = np.reshape(x_train_set, (x_train_set.shape[0],x_train_set.shape[1],1))\n",
    "\n",
    "# create and fit the LSTM network\n",
    "model = Sequential()\n",
    "model.add(LSTM(units = 50, return_sequences = True, input_shape = (x_train_set.shape[1], 1)))\n",
    "model.add(LSTM(units = 50))\n",
    "model.add(Dense(1))\n",
    "\n",
    "model.compile(loss = 'mean_squared_error', optimizer='adam',)\n",
    "model.fit(x_train_set, y_train_set, epochs=10, batch_size=5)\n",
    "\n",
    "#predicting values, using past 60 from the train data\n",
    "inputs = new_data[len(new_data) - len(test_set) - 60:].values\n",
    "inputs = inputs.reshape(-1,1)\n",
    "inputs  = my_pipeline.transform(inputs)\n",
    "\n",
    "X_test_set = []\n",
    "for i in range(60,inputs.shape[0]):\n",
    "    X_test_set.append(inputs[i-60:i,0])\n",
    "X_test_set = np.array(X_test_set)\n",
    "\n",
    "X_test_set = np.reshape(X_test_set, (X_test_set.shape[0],X_test_set.shape[1],1))\n",
    "closing_price = model.predict(X_test_set)\n",
    "closing_price = my_pipeline.inverse_transform(closing_price)"
   ]
  },
  {
   "cell_type": "code",
   "execution_count": 6,
   "id": "884db19d",
   "metadata": {},
   "outputs": [
    {
     "data": {
      "text/plain": [
       "48.23022167731757"
      ]
     },
     "execution_count": 6,
     "metadata": {},
     "output_type": "execute_result"
    }
   ],
   "source": [
    "rms=np.sqrt(np.mean(np.power((test_set-closing_price),2)))\n",
    "rms"
   ]
  },
  {
   "cell_type": "code",
   "execution_count": 7,
   "id": "fb800e6e",
   "metadata": {},
   "outputs": [
    {
     "name": "stderr",
     "output_type": "stream",
     "text": [
      "C:\\Users\\adity\\AppData\\Local\\Temp/ipykernel_12064/3349358188.py:4: SettingWithCopyWarning: \n",
      "A value is trying to be set on a copy of a slice from a DataFrame.\n",
      "Try using .loc[row_indexer,col_indexer] = value instead\n",
      "\n",
      "See the caveats in the documentation: https://pandas.pydata.org/pandas-docs/stable/user_guide/indexing.html#returning-a-view-versus-a-copy\n",
      "  test_set['Predictions'] = closing_price\n"
     ]
    },
    {
     "data": {
      "image/png": "[encoded data removed]",
      "text/plain": [
       "<Figure size 432x288 with 1 Axes>"
      ]
     },
     "metadata": {
      "needs_background": "light"
     },
     "output_type": "display_data"
    }
   ],
   "source": [
    "import matplotlib.pyplot as plt\n",
    "train_set = new_data[:1795]\n",
    "test_set = new_data[1795:]\n",
    "test_set['Predictions'] = closing_price\n",
    "plt.plot(train_set['Close Price'], label='Train Set Close Price')\n",
    "plt.plot(test_set['Close Price'], label = 'Test Set Close Price')\n",
    "plt.plot(test_set['Predictions'], label = 'Test Set Predictions')\n",
    "plt.legend()\n",
    "plt.show()"
   ]
  },
  {
   "cell_type": "code",
   "execution_count": 8,
   "id": "e365ffe5",
   "metadata": {},
   "outputs": [],
   "source": [
    "from numpy import sqrt\n",
    "from sklearn.metrics import mean_squared_error\n",
    "stock_price = stock_price.rename(columns={'Close Price': 'Close'})\n",
    "def SMA(data, period, column='Close'):\n",
    "    return data[column].rolling(window=period).mean()"
   ]
  },
  {
   "cell_type": "markdown",
   "id": "2e6dc248",
   "metadata": {},
   "source": [
    "## USING MOVING AVERAGE (2 STEP)"
   ]
  },
  {
   "cell_type": "code",
   "execution_count": 9,
   "id": "8d462402",
   "metadata": {},
   "outputs": [
    {
     "name": "stderr",
     "output_type": "stream",
     "text": [
      "C:\\Users\\adity\\AppData\\Local\\Temp/ipykernel_12064/720571699.py:7: SettingWithCopyWarning: \n",
      "A value is trying to be set on a copy of a slice from a DataFrame.\n",
      "Try using .loc[row_indexer,col_indexer] = value instead\n",
      "\n",
      "See the caveats in the documentation: https://pandas.pydata.org/pandas-docs/stable/user_guide/indexing.html#returning-a-view-versus-a-copy\n",
      "  y['SMA2']=train_set['SMA2']=SMA(stock_price, 2)\n"
     ]
    },
    {
     "data": {
      "text/plain": [
       "21.47947317457164"
      ]
     },
     "execution_count": 9,
     "metadata": {},
     "output_type": "execute_result"
    }
   ],
   "source": [
    "from numpy import sqrt\n",
    "from sklearn.metrics import mean_squared_error\n",
    "stock_price = stock_price.rename(columns={'Close Price': 'Close'})\n",
    "train_set = stock_price[0:1795]\n",
    "test_set = stock_price[1795:]\n",
    "y=test_set.copy()\n",
    "y['SMA2']=train_set['SMA2']=SMA(stock_price, 2)\n",
    "rms=sqrt(mean_squared_error(test_set.Close,y.SMA2))\n",
    "rms"
   ]
  },
  {
   "cell_type": "code",
   "execution_count": 10,
   "id": "a3c81a5b",
   "metadata": {},
   "outputs": [
    {
     "data": {
      "text/html": [
       "<div>\n",
       "<style scoped>\n",
       "    .dataframe tbody tr th:only-of-type {\n",
       "        vertical-align: middle;\n",
       "    }\n",
       "\n",
       "    .dataframe tbody tr th {\n",
       "        vertical-align: top;\n",
       "    }\n",
       "\n",
       "    .dataframe thead th {\n",
       "        text-align: right;\n",
       "    }\n",
       "</style>\n",
       "<table border=\"1\" class=\"dataframe\">\n",
       "  <thead>\n",
       "    <tr style=\"text-align: right;\">\n",
       "      <th></th>\n",
       "      <th>Date</th>\n",
       "      <th>Prev Close</th>\n",
       "      <th>Open Price</th>\n",
       "      <th>High Price</th>\n",
       "      <th>Low Price</th>\n",
       "      <th>Last Price</th>\n",
       "      <th>Close</th>\n",
       "      <th>Average Price</th>\n",
       "      <th>Total Traded Quantity</th>\n",
       "      <th>SMA2</th>\n",
       "    </tr>\n",
       "  </thead>\n",
       "  <tbody>\n",
       "    <tr>\n",
       "      <th>1795</th>\n",
       "      <td>10-Mar-17</td>\n",
       "      <td>1286.75</td>\n",
       "      <td>1290.25</td>\n",
       "      <td>1296.00</td>\n",
       "      <td>1261.20</td>\n",
       "      <td>1279.10</td>\n",
       "      <td>1281.65</td>\n",
       "      <td>1282.25</td>\n",
       "      <td>5665568</td>\n",
       "      <td>1284.200</td>\n",
       "    </tr>\n",
       "    <tr>\n",
       "      <th>1796</th>\n",
       "      <td>14-Mar-17</td>\n",
       "      <td>1281.65</td>\n",
       "      <td>1318.75</td>\n",
       "      <td>1319.00</td>\n",
       "      <td>1285.25</td>\n",
       "      <td>1288.25</td>\n",
       "      <td>1289.50</td>\n",
       "      <td>1299.08</td>\n",
       "      <td>6346620</td>\n",
       "      <td>1285.575</td>\n",
       "    </tr>\n",
       "    <tr>\n",
       "      <th>1797</th>\n",
       "      <td>15-Mar-17</td>\n",
       "      <td>1289.50</td>\n",
       "      <td>1291.05</td>\n",
       "      <td>1316.30</td>\n",
       "      <td>1290.40</td>\n",
       "      <td>1302.00</td>\n",
       "      <td>1304.95</td>\n",
       "      <td>1306.90</td>\n",
       "      <td>5510658</td>\n",
       "      <td>1297.225</td>\n",
       "    </tr>\n",
       "    <tr>\n",
       "      <th>1798</th>\n",
       "      <td>16-Mar-17</td>\n",
       "      <td>1304.95</td>\n",
       "      <td>1310.00</td>\n",
       "      <td>1310.40</td>\n",
       "      <td>1293.60</td>\n",
       "      <td>1296.80</td>\n",
       "      <td>1297.65</td>\n",
       "      <td>1300.24</td>\n",
       "      <td>3639964</td>\n",
       "      <td>1301.300</td>\n",
       "    </tr>\n",
       "    <tr>\n",
       "      <th>1799</th>\n",
       "      <td>17-Mar-17</td>\n",
       "      <td>1297.65</td>\n",
       "      <td>1308.00</td>\n",
       "      <td>1319.95</td>\n",
       "      <td>1298.05</td>\n",
       "      <td>1300.55</td>\n",
       "      <td>1300.70</td>\n",
       "      <td>1302.80</td>\n",
       "      <td>5195076</td>\n",
       "      <td>1299.175</td>\n",
       "    </tr>\n",
       "  </tbody>\n",
       "</table>\n",
       "</div>"
      ],
      "text/plain": [
       "           Date  Prev Close  Open Price  High Price  Low Price  Last Price  \\\n",
       "1795  10-Mar-17     1286.75     1290.25     1296.00    1261.20     1279.10   \n",
       "1796  14-Mar-17     1281.65     1318.75     1319.00    1285.25     1288.25   \n",
       "1797  15-Mar-17     1289.50     1291.05     1316.30    1290.40     1302.00   \n",
       "1798  16-Mar-17     1304.95     1310.00     1310.40    1293.60     1296.80   \n",
       "1799  17-Mar-17     1297.65     1308.00     1319.95    1298.05     1300.55   \n",
       "\n",
       "        Close  Average Price  Total Traded Quantity      SMA2  \n",
       "1795  1281.65        1282.25                5665568  1284.200  \n",
       "1796  1289.50        1299.08                6346620  1285.575  \n",
       "1797  1304.95        1306.90                5510658  1297.225  \n",
       "1798  1297.65        1300.24                3639964  1301.300  \n",
       "1799  1300.70        1302.80                5195076  1299.175  "
      ]
     },
     "execution_count": 10,
     "metadata": {},
     "output_type": "execute_result"
    }
   ],
   "source": [
    "y.head()"
   ]
  },
  {
   "cell_type": "code",
   "execution_count": 11,
   "id": "2baf55f8",
   "metadata": {},
   "outputs": [
    {
     "data": {
      "image/png": "[encoded data removed]",
      "text/plain": [
       "<Figure size 1152x576 with 1 Axes>"
      ]
     },
     "metadata": {
      "needs_background": "light"
     },
     "output_type": "display_data"
    }
   ],
   "source": [
    "import matplotlib.pyplot as plt\n",
    "plt.figure(figsize=(16,8))\n",
    "plt.title(\"CLOSE PRICE OF TEST SET WITH RESPECT TO SMA2 VALUES CALCULATED FROM TRAIN SET\")\n",
    "plt.plot(y['Close'], label='Close Price')\n",
    "plt.plot(y['SMA2'], label='SMA2')\n",
    "plt.legend()\n",
    "plt.show()"
   ]
  }
 ],
 "metadata": {
  "kernelspec": {
   "display_name": "Python 3 (ipykernel)",
   "language": "python",
   "name": "python3"
  },
  "language_info": {
   "codemirror_mode": {
    "name": "ipython",
    "version": 3
   },
   "file_extension": ".py",
   "mimetype": "text/x-python",
   "name": "python",
   "nbconvert_exporter": "python",
   "pygments_lexer": "ipython3",
   "version": "3.8.0"
  }
 },
 "nbformat": 4,
 "nbformat_minor": 5
}
